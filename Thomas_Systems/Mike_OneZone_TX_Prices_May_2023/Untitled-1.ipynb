{
 "cells": [
  {
   "cell_type": "code",
   "execution_count": 177,
   "metadata": {},
   "outputs": [],
   "source": [
    "import pandas as pd\n",
    "import numpy\n",
    "import math\n",
    "\n",
    "#IMPORT GENERATORS DATA FROM NREL, INCLUDES PLANT LEVEL HEAT REATES(HR). https://data.nrel.gov/submissions/100\n",
    "\n",
    "#plant level data with 4th-level polynomial heat rate curve\n",
    "hr_curves_201617 = pd.read_csv(\"/Users/Michael/Downloads/CEMS_2016-2017_Heat_Rates.csv\")\n",
    "\n",
    "#plants in Texas\n",
    "TX_hr_curves_201617 = hr_curves_201617.loc[hr_curves_201617[\"state\"] == \"TX\"]\n",
    "#fossil plant ids for Texas from NREL data\n",
    "NREL_TX_fossil_ids = TX_hr_curves_201617['unit_id']\n",
    "NREL_TX_fossil_ids = [float(x.split('_', 1)[0]) for x in NREL_TX_fossil_ids]\n",
    "\n",
    "\n",
    "#plants in ERCOT\n",
    "ERCOT_hr_curves_201617 = hr_curves_201617.loc[hr_curves_201617[\"NERC_region\"] == \"ERCOT\"]\n",
    "NREL_ERCOT_fossil_ids = ERCOT_hr_curves_201617['unit_id']\n",
    "\n",
    "#WHY IS THERE SUCH A BIG DIFFERENCE BETWEEN THE NUMBER IN EACH?\n",
    "\n",
    "#plant level data with piece-wise linear heat rate function. DOES NOT INDICATE STATE OR NERC REGION. \n",
    "#Next step: cross reference IDs to select just TX/ERCOT plants\n",
    "hr_pwlinear_201516 = pd.read_csv(\"/Users/Michael/Downloads/CEMS_2015-2016_Piecewise_Fits.csv\")"
   ]
  },
  {
   "cell_type": "code",
   "execution_count": 178,
   "metadata": {},
   "outputs": [],
   "source": [
    "#Plant ids from Generators_Data.csv\n",
    "\n",
    "#Full Generators_data.csv from OneZone_TX\n",
    "GenX_TX_gens = pd.read_csv(\"/Users/Michael/GenX-Projects/Example_Systems/OneZone_TX/Generators_data.csv\")\n",
    "\n",
    "#Plant ids from Generates_data (includes fossil fuels and renewables)\n",
    "GenX_TX_gens_IDs = pd.DataFrame(GenX_TX_gens[\"plant_id_eia\"])\n",
    "\n",
    "GenX_TX_fossil_gens = GenX_TX_gens.loc[(GenX_TX_gens[\"technology\"] == \"Conventional Steam Coal\") | (GenX_TX_gens[\"technology\"] == \"Natural Gas Fired Combined Cycle\") | (GenX_TX_gens[\"technology\"] == \"Natural Gas Fired Combustion Turbine\") | (GenX_TX_gens[\"technology\"] == \"Natural Gas Steam Turbine\")]\n",
    "\n",
    "#Create list of fossil generator ids\n",
    "GenX_TX_fossil_ids = []\n",
    "for x in GenX_TX_fossil_gens['plant_id_eia']:\n",
    "    GenX_TX_fossil_ids = GenX_TX_fossil_ids + x[1:-1].split(\",\")\n",
    "\n",
    "GenX_TX_fossil_ids = [float(x) for x in GenX_TX_fossil_ids]"
   ]
  },
  {
   "cell_type": "code",
   "execution_count": 179,
   "metadata": {},
   "outputs": [],
   "source": [
    "#ERCOT hourly load data, https://www.ercot.com/gridinfo/load/load_hist\n",
    "\n",
    "#Files from ERCOT, include sub-zone load and total load\n",
    "Load_ERCOT_2016 = pd.read_excel(\"/Users/Michael/Downloads/ERCOT_Load_2016.xlsx\")['ERCOT']\n",
    "Load_ERCOT_2017 = pd.read_excel(\"/Users/Michael/Downloads/ERCOT_Load_2016.xlsx\")['ERCOT']\n",
    "Load_ERCOT_2018 = pd.read_excel(\"/Users/Michael/Downloads/ERCOT_Load_2016.xlsx\")['ERCOT']\n",
    "Load_ERCOT_2019 = pd.read_excel(\"/Users/Michael/Downloads/ERCOT_Load_2016.xlsx\")['ERCOT']"
   ]
  },
  {
   "cell_type": "code",
   "execution_count": 180,
   "metadata": {},
   "outputs": [],
   "source": [
    "#ERCOT hourly renewables generation\n",
    "from pandas import DataFrame\n",
    "\n",
    "#Annual excel files with renewable generaiton data, 15-minute intervals\n",
    "#FORMAT CHANGES AFTER 2016!!!!\n",
    "ERCOT_gen_excel_2016 = pd.ExcelFile(\"/Users/Michael/Downloads/FuelMixReport_PreviousYears/IntGenByFuel2016.xlsx\")\n",
    "ERCOT_gen_excel_2017 = pd.ExcelFile(\"/Users/Michael/Downloads/FuelMixReport_PreviousYears/IntGenByFuel2017.xlsx\")\n",
    "ERCOT_gen_excel_2018 = pd.ExcelFile(\"/Users/Michael/Downloads/FuelMixReport_PreviousYears/IntGenByFuel2018.xlsx\")\n",
    "ERCOT_gen_excel_2019 = pd.ExcelFile(\"/Users/Michael/Downloads/FuelMixReport_PreviousYears/IntGenByFuel2019.xlsx\")\n",
    "\n",
    "#Past-2016 FORMATTING\n",
    "\n",
    "def format_gen_data_until_2016 (gen_data: pd.ExcelFile):\n",
    "    #create list of sheet names containing renewable generation data\n",
    "    gen_data.sheet_names\n",
    "    sheets = list(gen_data.sheet_names[2:])\n",
    "    sheets.reverse()\n",
    "\n",
    "    #make a dataframe with all the sheets combined\n",
    "    months_ren_gen = []\n",
    "\n",
    "    for sheet in sheets:\n",
    "        month = pd.DataFrame(gen_data.parse(sheet))\n",
    "        months_ren_gen.append(month)\n",
    "\n",
    "    ERCOT_ren_gen = pd.concat(months_ren_gen, ignore_index = True)\n",
    "\n",
    "    #change column names to string\n",
    "    col_names = ERCOT_ren_gen.columns\n",
    "    ERCOT_ren_gen.columns = [str(x) for x in col_names]\n",
    "\n",
    "    #replace nan values in 00:00:00 with 1900-01-01 00:00:00 values\n",
    "    for i in range(len(ERCOT_ren_gen[\"Date-Fuel\"])):\n",
    "        if math.isnan(ERCOT_ren_gen['00:00:00'][i]) == True:\n",
    "            ERCOT_ren_gen['00:00:00'][i] = ERCOT_ren_gen['1900-01-01 00:00:00'][i]\n",
    "    \n",
    "    return ERCOT_ren_gen"
   ]
  },
  {
   "cell_type": "code",
   "execution_count": 173,
   "metadata": {},
   "outputs": [],
   "source": [
    "#2017-PRESENT FORMATTING\n",
    "\n",
    "def format_gen_data_post_2016 (gen_data: pd.ExcelFile):\n",
    "    #create list of sheet names containing renewable generation data\n",
    "    gen_data.sheet_names\n",
    "    sheets = list(gen_data.sheet_names[4:])\n",
    "\n",
    "    months_ren_gen = []\n",
    "\n",
    "    for sheet in sheets:\n",
    "        month = pd.DataFrame(gen_data.parse(sheet))\n",
    "        months_ren_gen.append(month)\n",
    "\n",
    "    ERCOT_ren_gen = pd.concat(months_ren_gen, ignore_index = True)\n",
    "\n",
    "    #change column names to string\n",
    "    col_names = ERCOT_ren_gen.columns\n",
    "    ERCOT_ren_gen.columns = [str(x) for x in col_names]\n",
    "\n",
    "    return(ERCOT_ren_gen)\n"
   ]
  },
  {
   "cell_type": "code",
   "execution_count": 193,
   "metadata": {},
   "outputs": [],
   "source": [
    "#function that returns hourly generation for wind and solar for data from 2016 and before\n",
    "def combine_gen_data_pre_2016(gen_data: DataFrame):\n",
    "\n",
    "    wind_gen = []\n",
    "    solar_gen = []\n",
    "\n",
    "    #for i in range(24):\n",
    "    for i in range(len(gen_data[\"Date-Fuel\"])):\n",
    "        if gen_data[\"Date-Fuel\"][i].split(\"_\")[-1] == \"Solar\":\n",
    "            for hour in range(int(24)):\n",
    "                hourly_solar = 0\n",
    "                for period in range(4):\n",
    "                    hourly_solar = hourly_solar + gen_data.iloc[i][2 + 4*hour + period]\n",
    "                solar_gen.append(hourly_solar)\n",
    "        \n",
    "        if gen_data[\"Date-Fuel\"][i].split(\"_\")[-1] == \"Wind\":\n",
    "            for hour in range(int(24)):\n",
    "                hourly_wind = 0\n",
    "                for period in range(4):\n",
    "                    hourly_wind = hourly_wind + gen_data.iloc[i][2 + 4*hour + period]\n",
    "                wind_gen.append(hourly_wind)\n",
    "\n",
    "    return solar_gen, wind_gen\n",
    "\n",
    "#function that returns hourly generation for wind and solar for data from after 2016\n",
    "def combine_gen_data_post_2016(gen_data: DataFrame):\n",
    "\n",
    "    wind_gen = []\n",
    "    solar_gen = []\n",
    "\n",
    "    #for i in range(24):\n",
    "    for i in range(len(gen_data[\"Fuel\"])):\n",
    "        if gen_data[\"Fuel\"][i] == \"Solar\":\n",
    "            for hour in range(int(24)):\n",
    "                hourly_solar = 0\n",
    "                for period in range(4):\n",
    "                    hourly_solar = hourly_solar + gen_data.iloc[i][5 + 4*hour + period]\n",
    "                solar_gen.append(hourly_solar)\n",
    "        \n",
    "        if gen_data[\"Fuel\"][i] == \"Wind\":\n",
    "            for hour in range(int(24)):\n",
    "                hourly_wind = 0\n",
    "                for period in range(4):\n",
    "                    hourly_wind = hourly_wind + gen_data.iloc[i][5 + 4*hour + period]\n",
    "                wind_gen.append(hourly_wind)\n",
    "\n",
    "    return solar_gen, wind_gen"
   ]
  },
  {
   "cell_type": "code",
   "execution_count": 192,
   "metadata": {},
   "outputs": [
    {
     "data": {
      "text/plain": [
       "12.245844"
      ]
     },
     "execution_count": 192,
     "metadata": {},
     "output_type": "execute_result"
    }
   ],
   "source": [
    "ERCOT_ren_gen.iloc[0][5]"
   ]
  },
  {
   "cell_type": "code",
   "execution_count": 197,
   "metadata": {},
   "outputs": [
    {
     "data": {
      "text/plain": [
       "0.8192294403604358"
      ]
     },
     "execution_count": 197,
     "metadata": {},
     "output_type": "execute_result"
    }
   ],
   "source": [
    "#Create the modified Generators_variability_modified file based on the Generators_Variability givne in Texas One Zone\n",
    "\n",
    "gen_var_mod = pd.read_csv(\"/Users/Michael/GenX-Projects/Example_Systems/OneZone_TX/Generators_variability_modified.csv\")\n",
    "gen_data_mod = pd.read_csv(\"/Users/Michael/GenX-Projects/Example_Systems/OneZone_TX/Generators_data_modified.csv\")\n",
    "\n",
    "#from https://www.ercot.com/gridinfo/resource/2020, released Jan 2020\n",
    "wind_cap_2019 = 23860\n",
    "solar_cap_2019 = 2281\n",
    "\n",
    "#use functinos above to generate renewable production timeeseries\n",
    "#ERCOT_ren_gen = format_gen_data_post_2016(ERCOT_gen_excel_2019)\n",
    "solar_gen, wind_gen = combine_gen_data_post_2016(ERCOT_ren_gen)\n",
    "\n",
    "#weight of renewable production (hourly production/total capacity)\n",
    "weighted_solar_gen_2019 = [x / solar_cap_2019 for x in solar_gen]\n",
    "weighted_wind_gen_2019 = [x / wind_cap_2019 for x in wind_gen]\n",
    "\n",
    "max(weighted_solar_gen_2019)\n",
    "max(weighted_wind_gen_2019)\n"
   ]
  },
  {
   "cell_type": "code",
   "execution_count": 199,
   "metadata": {},
   "outputs": [
    {
     "name": "stdout",
     "output_type": "stream",
     "text": [
      "0.8653184769837792 0.8192294403604358\n"
     ]
    }
   ],
   "source": [
    "print(\n",
    "max(weighted_solar_gen_2019),\n",
    "max(weighted_wind_gen_2019))\n",
    "\n",
    "#SNL energy to get gas and coal prices, ask for a license\n",
    "#compare the dispatch to the actualy ERCOt dispatch, sanity check by fuel type\n",
    "#down the road, let's check out the impact of nuclear off-lining\n",
    "#Hydro-quebec has some kind of variability booster\n"
   ]
  },
  {
   "cell_type": "code",
   "execution_count": null,
   "metadata": {},
   "outputs": [],
   "source": []
  }
 ],
 "metadata": {
  "kernelspec": {
   "display_name": "Python 3.9.12 ('base')",
   "language": "python",
   "name": "python3"
  },
  "language_info": {
   "codemirror_mode": {
    "name": "ipython",
    "version": 3
   },
   "file_extension": ".py",
   "mimetype": "text/x-python",
   "name": "python",
   "nbconvert_exporter": "python",
   "pygments_lexer": "ipython3",
   "version": "3.9.13 | packaged by conda-forge | (main, May 27 2022, 17:00:52) \n[Clang 13.0.1 ]"
  },
  "orig_nbformat": 4,
  "vscode": {
   "interpreter": {
    "hash": "8539169919af4e9efd5beb3796f274d1d1e2dd06d91630fbd963752e63b88a88"
   }
  }
 },
 "nbformat": 4,
 "nbformat_minor": 2
}
