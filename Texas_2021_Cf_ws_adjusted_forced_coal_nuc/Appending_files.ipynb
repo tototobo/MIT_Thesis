{
 "cells": [
  {
   "cell_type": "code",
   "execution_count": 64,
   "metadata": {},
   "outputs": [
    {
     "name": "stdout",
     "output_type": "stream",
     "text": [
      "Processing complete.\n"
     ]
    }
   ],
   "source": [
    "# exporting the data from the monthly folders to a yearly folder\n",
    "import os\n",
    "import pandas as pd\n",
    "\n",
    "# Specify the folder paths\n",
    "monthly_folder_path = \"./Results_{month}\"\n",
    "output_folder_path = \"./Results_yearly\"\n",
    "\n",
    "# Create the output folder if it doesn't exist\n",
    "os.makedirs(output_folder_path, exist_ok=True)\n",
    "\n",
    "# List of month names\n",
    "month_names = [\"01jan\", \"02feb\", \"03mar\", \"04apr\", \"05may\", \"06jun\", \"07jul\", \"08aug\", \"09sep\", \"10oct\", \"11nov\", \"12dec\"]\n",
    "\n",
    "# Iterate over the monthly folders\n",
    "for month in month_names:\n",
    "    # Construct the file paths for power.csv and Load_data.csv\n",
    "    power_file_path = os.path.join(monthly_folder_path.format(month=month), \"power.csv\")\n",
    "    load_file_path = os.path.join(monthly_folder_path.format(month=month), \"Load_data.csv\")\n",
    "    \n",
    "    # Read the power.csv file\n",
    "    df_main = pd.read_csv(power_file_path)\n",
    "    \n",
    "    # Read the Load_data.csv file\n",
    "    df_load = pd.read_csv(load_file_path)\n",
    "    #add two rows at the beginning of the df_load dataframe using concat function\n",
    "    df_load = pd.concat([pd.DataFrame({'Time_Index': [0], 'Load': [0]}), df_load], ignore_index=True)\n",
    "    df_load = pd.concat([pd.DataFrame({'Time_Index': [0], 'Load': [0]}), df_load], ignore_index=True)\n",
    "\n",
    "    # Remove the rows named \"Zone\" and \"AnnualSum\"\n",
    "    df_main = df_main[~df_main['Resource'].isin(['Zone', 'AnnualSum'])]\n",
    "    \n",
    "    # Convert \"Time_Index\" column to datetime\n",
    "    year = 2021  # Specify the year\n",
    "    start_date = pd.to_datetime(f'{year}-01-01 00:00:00')\n",
    "    df_main['Date'] = start_date + pd.to_timedelta(df_load['Time_Index'], unit='h')\n",
    "    \n",
    "    # Save the modified data to a new CSV file with the month name\n",
    "    output_file_path = os.path.join(output_folder_path, f\"modified_power_{month}.csv\")\n",
    "    df_main.to_csv(output_file_path, index=False)\n",
    "\n",
    "print(\"Processing complete.\")"
   ]
  },
  {
   "cell_type": "code",
   "execution_count": 65,
   "metadata": {},
   "outputs": [
    {
     "name": "stdout",
     "output_type": "stream",
     "text": [
      "Processing complete.\n"
     ]
    }
   ],
   "source": [
    "# converting the data from the yearly folder to a single csv file\n",
    "import os\n",
    "import pandas as pd\n",
    "\n",
    "# Specify the folder paths\n",
    "monthly_folder_path = \"./Results_{month}\"\n",
    "output_folder_path = \"./Results_yearly\"\n",
    "\n",
    "# Create the output folder if it doesn't exist\n",
    "os.makedirs(output_folder_path, exist_ok=True)\n",
    "\n",
    "# List of month names\n",
    "month_names = [\"01jan\", \"02feb\", \"03mar\", \"04apr\", \"05may\", \"06jun\", \"07jul\", \"08aug\", \"09sep\", \"10oct\", \"11nov\", \"12dec\"]\n",
    "\n",
    "# Initialize an empty dataframe to store the concatenated data\n",
    "concatenated_df = pd.DataFrame()\n",
    "\n",
    "# Iterate over the monthly folders\n",
    "i=1\n",
    "for month in month_names:\n",
    "    # Construct the file path for the modified_power_{month}.csv file\n",
    "    modified_file_path = os.path.join(output_folder_path, f\"modified_power_{month}.csv\")\n",
    "    \n",
    "    # Read the modified file\n",
    "    df_modified = pd.read_csv(modified_file_path)\n",
    "    \n",
    "    # Convert the 'Date' column to timestamp\n",
    "    df_modified['Date'] = pd.to_datetime(df_modified['Date'])\n",
    "    \n",
    "    # Extract the desired time range. It should be when the date contains the month number\n",
    "    df_selected = df_modified[df_modified['Date'].dt.month == i]\n",
    "    \n",
    "    # Concatenate the selected data to the larger dataframe\n",
    "    concatenated_df = pd.concat([concatenated_df, df_selected])\n",
    "    i=i+1\n",
    "\n",
    "\n",
    "# Reset the index of the concatenated dataframe\n",
    "concatenated_df.reset_index(drop=True, inplace=True)\n",
    "\n",
    "# Save the concatenated data to a new CSV file\n",
    "concatenated_file_path = os.path.join(output_folder_path, \"power.csv\")\n",
    "concatenated_df.to_csv(concatenated_file_path, index=False)\n",
    "\n",
    "print(\"Processing complete.\")"
   ]
  },
  {
   "cell_type": "code",
   "execution_count": 66,
   "metadata": {},
   "outputs": [
    {
     "name": "stdout",
     "output_type": "stream",
     "text": [
      "Processing complete.\n"
     ]
    }
   ],
   "source": [
    "# exporting the data from the monthly folders to a yearly folder\n",
    "import os\n",
    "import pandas as pd\n",
    "\n",
    "# Specify the folder paths\n",
    "monthly_folder_path = \"./Results_{month}\"\n",
    "output_folder_path = \"./Results_yearly\"\n",
    "\n",
    "# Create the output folder if it doesn't exist\n",
    "os.makedirs(output_folder_path, exist_ok=True)\n",
    "\n",
    "# List of month names\n",
    "month_names = [\"01jan\", \"02feb\", \"03mar\", \"04apr\", \"05may\", \"06jun\", \"07jul\", \"08aug\", \"09sep\", \"10oct\", \"11nov\", \"12dec\"]\n",
    "\n",
    "# Iterate over the monthly folders\n",
    "for month in month_names:\n",
    "    # Construct the file paths for prices.csv and Load_data.csv\n",
    "    prices_file_path = os.path.join(monthly_folder_path.format(month=month), \"prices.csv\")\n",
    "    load_file_path = os.path.join(monthly_folder_path.format(month=month), \"Load_data.csv\")\n",
    "    \n",
    "    # Read the prices.csv file\n",
    "    df_main = pd.read_csv(prices_file_path)\n",
    "    \n",
    "    # Read the Load_data.csv file\n",
    "    df_load = pd.read_csv(load_file_path)\n",
    "    \n",
    "    # Convert \"Time_Index\" column to datetime\n",
    "    year = 2021  # Specify the year\n",
    "    start_date = pd.to_datetime(f'{year}-01-01 00:00:00')\n",
    "    df_main['Date'] = start_date + pd.to_timedelta(df_load['Time_Index'], unit='h')\n",
    "    \n",
    "    # Save the modified data to a new CSV file with the month name\n",
    "    output_file_path = os.path.join(output_folder_path, f\"modified_prices_{month}.csv\")\n",
    "    df_main.to_csv(output_file_path, index=False)\n",
    "\n",
    "print(\"Processing complete.\")"
   ]
  },
  {
   "cell_type": "code",
   "execution_count": 67,
   "metadata": {},
   "outputs": [
    {
     "name": "stdout",
     "output_type": "stream",
     "text": [
      "Processing complete.\n"
     ]
    }
   ],
   "source": [
    "# converting the data from the yearly folder to a single csv file\n",
    "import os\n",
    "import pandas as pd\n",
    "\n",
    "# Specify the folder paths\n",
    "monthly_folder_path = \"./Results_{month}\"\n",
    "output_folder_path = \"./Results_yearly\"\n",
    "\n",
    "# Create the output folder if it doesn't exist\n",
    "os.makedirs(output_folder_path, exist_ok=True)\n",
    "\n",
    "# List of month names\n",
    "month_names = [\"01jan\", \"02feb\", \"03mar\", \"04apr\", \"05may\", \"06jun\", \"07jul\", \"08aug\", \"09sep\", \"10oct\", \"11nov\", \"12dec\"]\n",
    "\n",
    "# Initialize an empty dataframe to store the concatenated data\n",
    "concatenated_df = pd.DataFrame()\n",
    "\n",
    "# Iterate over the monthly folders\n",
    "i=1\n",
    "for month in month_names:\n",
    "    # Construct the file path for the modified_prices_{month}.csv file\n",
    "    modified_file_path = os.path.join(output_folder_path, f\"modified_prices_{month}.csv\")\n",
    "    \n",
    "    # Read the modified file\n",
    "    df_modified = pd.read_csv(modified_file_path)\n",
    "    \n",
    "    # Convert the 'Date' column to timestamp\n",
    "    df_modified['Date'] = pd.to_datetime(df_modified['Date'])\n",
    "    \n",
    "    # Extract the desired time range. It should be when the date contains the month number\n",
    "    df_selected = df_modified[df_modified['Date'].dt.month == i]\n",
    "    \n",
    "    # Concatenate the selected data to the larger dataframe\n",
    "    concatenated_df = pd.concat([concatenated_df, df_selected])\n",
    "    i=i+1\n",
    "\n",
    "\n",
    "# Reset the index of the concatenated dataframe\n",
    "concatenated_df.reset_index(drop=True, inplace=True)\n",
    "\n",
    "# Save the concatenated data to a new CSV file\n",
    "concatenated_file_path = os.path.join(output_folder_path, \"prices.csv\")\n",
    "concatenated_df.to_csv(concatenated_file_path, index=False)\n",
    "\n",
    "print(\"Processing complete.\")"
   ]
  }
 ],
 "metadata": {
  "kernelspec": {
   "display_name": "Python 3",
   "language": "python",
   "name": "python3"
  },
  "language_info": {
   "codemirror_mode": {
    "name": "ipython",
    "version": 3
   },
   "file_extension": ".py",
   "mimetype": "text/x-python",
   "name": "python",
   "nbconvert_exporter": "python",
   "pygments_lexer": "ipython3",
   "version": "3.10.11"
  },
  "orig_nbformat": 4
 },
 "nbformat": 4,
 "nbformat_minor": 2
}
