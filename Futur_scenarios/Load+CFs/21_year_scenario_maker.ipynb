{
 "cells": [
  {
   "cell_type": "code",
   "execution_count": 58,
   "metadata": {},
   "outputs": [],
   "source": [
    "import numpy as np\n",
    "import pandas as pd\n",
    "from pathlib import Path"
   ]
  },
  {
   "cell_type": "code",
   "execution_count": 59,
   "metadata": {},
   "outputs": [
    {
     "name": "stdout",
     "output_type": "stream",
     "text": [
      "d:\\Dropbox\\1_Academics\\Research\\19-Fusion_resilience_ENI\\3,4-Output+Load+CF\n"
     ]
    }
   ],
   "source": [
    "input_dir = Path.cwd()\n",
    "print(input_dir)"
   ]
  },
  {
   "cell_type": "code",
   "execution_count": 60,
   "metadata": {},
   "outputs": [],
   "source": [
    "# Get a list of all the CSV files in the input directory\n",
    "input_files = input_dir.glob('*.csv')\n",
    "input_files = [x for x in input_files if x.is_file()]"
   ]
  },
  {
   "cell_type": "code",
   "execution_count": 61,
   "metadata": {},
   "outputs": [],
   "source": [
    "start_year = 2001\n",
    "end_year = 2020"
   ]
  },
  {
   "cell_type": "code",
   "execution_count": 62,
   "metadata": {},
   "outputs": [],
   "source": [
    "zone_map = {\n",
    "    '0': '5',\n",
    "    '1': '2',\n",
    "    '2': '4',\n",
    "    '3': '3',\n",
    "    '4': '6',\n",
    "    '5': '7'\n",
    "}"
   ]
  },
  {
   "attachments": {},
   "cell_type": "markdown",
   "metadata": {},
   "source": [
    "# Make load data"
   ]
  },
  {
   "cell_type": "code",
   "execution_count": 63,
   "metadata": {},
   "outputs": [],
   "source": [
    "file_root = 'Electricity_Load_HE_BaseYear'\n",
    "load_data_files = [x for x in input_files if file_root in str(x)]\n",
    "\n",
    "load_data = pd.DataFrame()\n",
    "\n",
    "for year in range(start_year, end_year+1):\n",
    "    temp = pd.read_csv(f\"{file_root}{year}.csv\", index_col=0)\n",
    "    # Rename the columns using the zone_map\n",
    "    temp.columns = [zone_map[x] for x in temp.columns]\n",
    "    # Reorder the columns to be in numerical order\n",
    "    temp = temp.reindex(sorted(temp.columns), axis=1)\n",
    "    # vcat temp to load_data\n",
    "    load_data = pd.concat([load_data, temp], axis=0)\n",
    "\n",
    "# Reset the index to be 1 to length of load_data\n",
    "load_data.index = range(1, len(load_data)+1)\n",
    "# Save load_data to a CSV file called 20_year_load_data.csv\n",
    "load_data.to_csv('20_year_load_data.csv')"
   ]
  },
  {
   "attachments": {},
   "cell_type": "markdown",
   "metadata": {},
   "source": [
    "# Make solar data"
   ]
  },
  {
   "cell_type": "code",
   "execution_count": 64,
   "metadata": {},
   "outputs": [],
   "source": [
    "file_root = 'AvailabilityFactors_Solar_'\n",
    "solar_data_files = [x for x in input_files if file_root in str(x)]\n",
    "\n",
    "solar_data = pd.DataFrame()\n",
    "\n",
    "for year in range(start_year, end_year+1):\n",
    "    temp = pd.read_csv(f\"{file_root}{year}.csv\")\n",
    "    # Rename the columns using the zone_map\n",
    "    temp.columns = [zone_map[f\"{int(x)-1}\"] for x in temp.columns]\n",
    "    # Reorder the columns to be in numerical order\n",
    "    temp = temp.reindex(sorted(temp.columns), axis=1)\n",
    "    # vcat temp to load_data\n",
    "    solar_data = pd.concat([solar_data, temp], axis=0)\n",
    "\n",
    "# Reset the index to be 1 to length of load_data\n",
    "solar_data.index = range(1, len(solar_data)+1)\n",
    "# Save load_data to a CSV file called 20_year_load_data.csv\n",
    "solar_data.to_csv('20_year_solar_data.csv')"
   ]
  },
  {
   "cell_type": "code",
   "execution_count": 67,
   "metadata": {},
   "outputs": [],
   "source": [
    "file_root = 'AvailabilityFactors_Wind_Offshore_'\n",
    "offshore_data_files = [x for x in input_files if file_root in str(x)]\n",
    "\n",
    "offshore_data = pd.DataFrame()\n",
    "\n",
    "for year in range(start_year, end_year+1):\n",
    "    temp = pd.read_csv(f\"{file_root}{year}.csv\")\n",
    "    # Rename the columns using the zone_map\n",
    "    temp.columns = [zone_map[x] for x in temp.columns]\n",
    "    # Reorder the columns to be in numerical order\n",
    "    temp = temp.reindex(sorted(temp.columns), axis=1)\n",
    "    # vcat temp to load_data\n",
    "    offshore_data = pd.concat([offshore_data, temp], axis=0)\n",
    "\n",
    "# Reset the index to be 1 to length of load_data\n",
    "offshore_data.index = range(1, len(offshore_data)+1)\n",
    "# Save load_data to a CSV file called 20_year_load_data.csv\n",
    "offshore_data.to_csv('20_year_offshore_data.csv')"
   ]
  },
  {
   "cell_type": "code",
   "execution_count": null,
   "metadata": {},
   "outputs": [],
   "source": [
    "file_root = 'AvailabilityFactors_Wind_Onshore_'\n",
    "onshore_data_files = [x for x in input_files if file_root in str(x)]\n",
    "\n",
    "onshore_data = pd.DataFrame()\n",
    "\n",
    "for year in range(start_year, end_year+1):\n",
    "    temp = pd.read_csv(f\"{file_root}{year}.csv\")\n",
    "    # Rename the columns using the zone_map\n",
    "    temp.columns = [zone_map[f\"{int(x)-1}\"] for x in temp.columns]\n",
    "    # Reorder the columns to be in numerical order\n",
    "    temp = temp.reindex(sorted(temp.columns), axis=1)\n",
    "    # vcat temp to load_data\n",
    "    onshore_data = pd.concat([onshore_data, temp], axis=0)\n",
    "\n",
    "# Reset the index to be 1 to length of load_data\n",
    "onshore_data.index = range(1, len(onshore_data)+1)\n",
    "# Save load_data to a CSV file called 20_year_load_data.csv\n",
    "onshore_data.to_csv('20_year_onshore_data.csv')"
   ]
  }
 ],
 "metadata": {
  "kernelspec": {
   "display_name": "Python 3",
   "language": "python",
   "name": "python3"
  },
  "language_info": {
   "codemirror_mode": {
    "name": "ipython",
    "version": 3
   },
   "file_extension": ".py",
   "mimetype": "text/x-python",
   "name": "python",
   "nbconvert_exporter": "python",
   "pygments_lexer": "ipython3",
   "version": "3.11.0"
  },
  "orig_nbformat": 4
 },
 "nbformat": 4,
 "nbformat_minor": 2
}
