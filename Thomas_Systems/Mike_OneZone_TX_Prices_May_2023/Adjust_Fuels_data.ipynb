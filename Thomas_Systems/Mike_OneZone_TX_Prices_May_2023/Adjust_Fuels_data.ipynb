{
 "cells": [
  {
   "cell_type": "code",
   "execution_count": 9,
   "metadata": {},
   "outputs": [
    {
     "name": "stderr",
     "output_type": "stream",
     "text": [
      "/var/folders/81/p8jw9pfs533d7sbpx6b_3_qc0000gn/T/ipykernel_20089/1347969141.py:6: SettingWithCopyWarning: \n",
      "A value is trying to be set on a copy of a slice from a DataFrame\n",
      "\n",
      "See the caveats in the documentation: https://pandas.pydata.org/pandas-docs/stable/user_guide/indexing.html#returning-a-view-versus-a-copy\n",
      "  Fuels_data[\"NG\"][1:] = TX_2019_NG_Price[\"0\"]\n"
     ]
    }
   ],
   "source": [
    "import pandas as pd\n",
    "\n",
    "#Replace the hourly fuel prices (same prices all year) in the orginial fuel_data.csv file with the new prices (changes daily)\n",
    "\n",
    "#original file\n",
    "Fuels_data = pd.read_csv(\"/Users/Michael/GenX-main/Example_Systems/OneZone_TX_Prices/Fuels_data_original.csv\")\n",
    "\n",
    "#new prices\n",
    "TX_2019_NG_Price = pd.read_csv(\"/Users/Michael/GenX-main/Example_Systems/OneZone_TX_Prices/TX_2019_NG_Price.csv\")\n",
    "\n",
    "#switch old column with new prices\n",
    "Fuels_data[\"NG\"][1:] = TX_2019_NG_Price[\"0\"]\n",
    "\n",
    "#export new dataframe to csv\n",
    "Fuels_data.to_csv(\"/Users/Michael/GenX-main/Example_Systems/OneZone_TX_Prices/Fuels_data.csv\")"
   ]
  }
 ],
 "metadata": {
  "kernelspec": {
   "display_name": "Python 3.9.5 64-bit",
   "language": "python",
   "name": "python3"
  },
  "language_info": {
   "codemirror_mode": {
    "name": "ipython",
    "version": 3
   },
   "file_extension": ".py",
   "mimetype": "text/x-python",
   "name": "python",
   "nbconvert_exporter": "python",
   "pygments_lexer": "ipython3",
   "version": "3.9.5 (v3.9.5:0a7dcbdb13, May  3 2021, 13:05:53) \n[Clang 12.0.5 (clang-1205.0.22.9)]"
  },
  "orig_nbformat": 4,
  "vscode": {
   "interpreter": {
    "hash": "aee8b7b246df8f9039afb4144a1f6fd8d2ca17a180786b69acc140d282b71a49"
   }
  }
 },
 "nbformat": 4,
 "nbformat_minor": 2
}
