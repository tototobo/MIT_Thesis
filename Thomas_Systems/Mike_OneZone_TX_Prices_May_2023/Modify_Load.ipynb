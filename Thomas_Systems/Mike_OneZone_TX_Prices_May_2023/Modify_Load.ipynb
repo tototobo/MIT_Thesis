{
 "cells": [
  {
   "cell_type": "code",
   "execution_count": 2,
   "metadata": {},
   "outputs": [],
   "source": [
    "#LOAD\n",
    "#Format load data from ERCOT website for 2010-2020\n",
    "#Generate the Load_data.csv input file for GenX \n",
    "\n",
    "import pandas as pd\n",
    "import openpyxl"
   ]
  },
  {
   "cell_type": "code",
   "execution_count": 3,
   "metadata": {},
   "outputs": [],
   "source": [
    "#ERCOT hourly load data, https://www.ercot.com/gridinfo/load/load_hist\n",
    "#Data available for 1995-2022\n",
    "\n",
    "#Files from ERCOT, include sub-zone load and total load\n",
    "Load_ERCOT_2019 = pd.read_excel(\"/Users/Michael/Downloads/ERCOT_Load_2019.xlsx\")['ERCOT']\n",
    "\n",
    "#Create the modified Load_data.modified.csv\n",
    "load_data = pd.read_csv(\"/Users/Michael/GenX-Projects/Example_Systems/OneZone_TX/Load_data.csv\")\n",
    "load_data[\"Load_MW_z1\"] = [int(x) for x in Load_ERCOT_2019]\n",
    "load_data_2019 = load_data"
   ]
  },
  {
   "cell_type": "code",
   "execution_count": 4,
   "metadata": {},
   "outputs": [],
   "source": [
    "#Export the modified Load_data.csv file\n",
    "load_data_2019.to_csv(\"/Users/Michael/GenX-main/Example_Systems/OneZone_TX_Prices/Load_data.csv\", index = False)"
   ]
  }
 ],
 "metadata": {
  "kernelspec": {
   "display_name": "base",
   "language": "python",
   "name": "python3"
  },
  "language_info": {
   "codemirror_mode": {
    "name": "ipython",
    "version": 3
   },
   "file_extension": ".py",
   "mimetype": "text/x-python",
   "name": "python",
   "nbconvert_exporter": "python",
   "pygments_lexer": "ipython3",
   "version": "3.9.13"
  },
  "orig_nbformat": 4,
  "vscode": {
   "interpreter": {
    "hash": "8539169919af4e9efd5beb3796f274d1d1e2dd06d91630fbd963752e63b88a88"
   }
  }
 },
 "nbformat": 4,
 "nbformat_minor": 2
}
