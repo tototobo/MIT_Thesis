{
 "cells": [
  {
   "cell_type": "code",
   "execution_count": 9,
   "metadata": {},
   "outputs": [],
   "source": [
    "#Convert all data files to weekly\n",
    "\n",
    "import pandas as pd\n",
    "import julia\n"
   ]
  },
  {
   "cell_type": "code",
   "execution_count": 12,
   "metadata": {},
   "outputs": [],
   "source": [
    "path = \"/Users/Michael/Downloads/OneZone_TX_Prices_(May_2023)\""
   ]
  },
  {
   "cell_type": "code",
   "execution_count": 14,
   "metadata": {},
   "outputs": [],
   "source": [
    "fuel_yearly = pd.read_csv(path + \"/Yearly_Data_Files/Fuels_data.csv\")\n",
    "gen_var_yearly = pd.read_csv(path + \"/Yearly_Data_Files/Generators_variability.csv\")\n",
    "load_yearly = pd.read_csv(path + \"/Yearly_Data_Files/Load_data.csv\")"
   ]
  },
  {
   "cell_type": "code",
   "execution_count": 29,
   "metadata": {},
   "outputs": [],
   "source": [
    "#variable for how many days the run should be\n",
    "run_length = 30\n",
    "\n",
    "#variable that tracks starting day\n",
    "start_day = 1"
   ]
  },
  {
   "cell_type": "code",
   "execution_count": 30,
   "metadata": {},
   "outputs": [],
   "source": [
    "def block_data (fuel_yearly, gen_var_yearly, load_yearly):\n",
    "\n",
    "    fuel_block = fuel_yearly[start_day *24: 1+ start_day *24+ run_length * 24]\n",
    "    fuel_block.iloc[0] = fuel_yearly.iloc[0].reset_index(drop=True)\n",
    "\n",
    "    gen_var_block = gen_var_yearly[start_day *24: start_day*24 + run_length * 24]\n",
    "    load_block = load_yearly[start_day*24 : start_day *24 + run_length * 24]\n",
    "\n",
    "    return(fuel_block, gen_var_block, load_block)"
   ]
  },
  {
   "cell_type": "code",
   "execution_count": 37,
   "metadata": {},
   "outputs": [],
   "source": [
    "fuel_block = block_data (fuel_yearly, gen_var_yearly, load_yearly)[0].reset_index(drop = True)\n",
    "gen_var_block = block_data (fuel_yearly, gen_var_yearly, load_yearly)[1].reset_index(drop = True)\n",
    "load_block = block_data (fuel_yearly, gen_var_yearly, load_yearly)[2].reset_index(drop = True)"
   ]
  },
  {
   "cell_type": "code",
   "execution_count": 44,
   "metadata": {},
   "outputs": [],
   "source": [
    "fuel_block.to_csv(path + \"/Fuels_data.csv\")\n",
    "gen_var_block.to_csv(path + \"/Generators_variability.csv\")\n",
    "load_block.to_csv(path + \"/Load_data.csv\")"
   ]
  }
 ],
 "metadata": {
  "kernelspec": {
   "display_name": "base",
   "language": "python",
   "name": "python3"
  },
  "language_info": {
   "codemirror_mode": {
    "name": "ipython",
    "version": 3
   },
   "file_extension": ".py",
   "mimetype": "text/x-python",
   "name": "python",
   "nbconvert_exporter": "python",
   "pygments_lexer": "ipython3",
   "version": "3.9.16"
  },
  "orig_nbformat": 4,
  "vscode": {
   "interpreter": {
    "hash": "8539169919af4e9efd5beb3796f274d1d1e2dd06d91630fbd963752e63b88a88"
   }
  }
 },
 "nbformat": 4,
 "nbformat_minor": 2
}
