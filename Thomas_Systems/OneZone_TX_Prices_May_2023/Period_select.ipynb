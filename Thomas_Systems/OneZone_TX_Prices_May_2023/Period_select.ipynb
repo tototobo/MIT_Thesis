{
 "cells": [
  {
   "cell_type": "code",
   "execution_count": 1,
   "metadata": {},
   "outputs": [],
   "source": [
    "import pandas as pd\n",
    "import shutil"
   ]
  },
  {
   "cell_type": "code",
   "execution_count": 2,
   "metadata": {},
   "outputs": [],
   "source": [
    "# Define the source directory and the filenames of the files to copy\n",
    "source_dir = 'Yearly_Data_Files'\n",
    "file_names = ['Fuels_data.csv', 'Generators_variability.csv', 'Load_data.csv', '2019_empirical_electricity_prices.csv']\n",
    "\n",
    "# Loop through each file and copy it to the current directory\n",
    "for file_name in file_names:\n",
    "    shutil.copy(f\"{source_dir}/{file_name}\", f\"./{file_name}\")"
   ]
  },
  {
   "cell_type": "code",
   "execution_count": 3,
   "metadata": {},
   "outputs": [
    {
     "name": "stdout",
     "output_type": "stream",
     "text": [
      "Length of Fuels_data.csv: 745\n",
      "Length of Generators_variability.csv: 744\n",
      "Length of Load_data.csv: 744\n",
      "Length of 2019_empirical_electricity_prices.csv: 744\n"
     ]
    }
   ],
   "source": [
    "# Load each CSV file into a separate pandas DataFrame\n",
    "df1 = pd.read_csv('Fuels_data.csv')\n",
    "df2 = pd.read_csv('Generators_variability.csv')\n",
    "df3 = pd.read_csv('Load_data.csv')\n",
    "df4 = pd.read_csv('2019_empirical_electricity_prices.csv')\n",
    "\n",
    "# Define the start and end dates as strings in 'MM/DD' format\n",
    "start_date = '07/01'\n",
    "end_date = '07/31'\n",
    "\n",
    "# Create a new DataFrame column with the year of the Time_Index for each DataFrame\n",
    "df1['Year'] = pd.to_datetime(df1['Time_Index'], unit='h').dt.year\n",
    "df2['Year'] = pd.to_datetime(df2['Time_Index'], unit='h').dt.year\n",
    "df3['Year'] = pd.to_datetime(df3['Time_Index'], unit='h').dt.year\n",
    "df4['Year'] = pd.to_datetime(df4['Time_Index'], unit='h').dt.year\n",
    "\n",
    "# Add the year to the start and end dates and convert to datetime objects\n",
    "start_date = pd.to_datetime(f\"{df1['Year'].unique()[0]}/{start_date}\")\n",
    "end_date = pd.to_datetime(f\"{df1['Year'].unique()[0]}/{end_date}\")\n",
    "\n",
    "# Filter each DataFrame to only include rows with dates in the specified range\n",
    "filtered_df1_without_timeindex_0 = df1[(pd.to_datetime(df1['Time_Index'], unit='h').dt.date >= start_date.date()) & \n",
    "                   (pd.to_datetime(df1['Time_Index'], unit='h').dt.date <= end_date.date()) &\n",
    "                   (df1['Time_Index'] != 0)]\n",
    "filtered_df1_with_timeindex_0 = df1[df1['Time_Index'] == 0]\n",
    "\n",
    "# Append the row with Time_Index = 0 at the beginning of the filtered_df1 DataFrame\n",
    "filtered_df1 = pd.concat([filtered_df1_with_timeindex_0, filtered_df1_without_timeindex_0])\n",
    "\n",
    "# Sort each filtered DataFrame by the Time_Index column\n",
    "sorted_df1 = filtered_df1.sort_values('Time_Index')\n",
    "sorted_df2 = df2[(pd.to_datetime(df2['Time_Index'], unit='h').dt.date >= start_date.date()) & \n",
    "                   (pd.to_datetime(df2['Time_Index'], unit='h').dt.date <= end_date.date())].sort_values('Time_Index')\n",
    "sorted_df3 = df3[(pd.to_datetime(df3['Time_Index'], unit='h').dt.date >= start_date.date()) & \n",
    "                   (pd.to_datetime(df3['Time_Index'], unit='h').dt.date <= end_date.date())].sort_values('Time_Index')\n",
    "sorted_df4 = df4[(pd.to_datetime(df4['Time_Index'], unit='h').dt.date >= start_date.date()) &\n",
    "                   (pd.to_datetime(df4['Time_Index'], unit='h').dt.date <= end_date.date())].sort_values('Time_Index')\n",
    "\n",
    "# Input the load parameters\n",
    "# Voll\n",
    "sorted_df3.iloc[0, 1] = 5000\n",
    "# Demand_Segment\n",
    "sorted_df3.iloc[0, 2] = 1\n",
    "# Cost_of_Demand_Curtailment_per_MW\n",
    "sorted_df3.iloc[0, 3] = 1\n",
    "# Max_Demand_Curtailment\n",
    "sorted_df3.iloc[0, 4] = 1000\n",
    "# Rep_Periods\n",
    "sorted_df3.iloc[0, 5] = 1\n",
    "# Timesteps_per_Rep_Period\n",
    "sorted_df3.iloc[0, 6] = len(sorted_df3)/sorted_df3.iloc[0, 5]\n",
    "# Sub_Weights\n",
    "sorted_df3.iloc[0, 7] = 1\n",
    "\n",
    "# Overwrite each original CSV file with the sorted, filtered DataFrame\n",
    "sorted_df1.to_csv('Fuels_data.csv', index=False)\n",
    "sorted_df2.to_csv('Generators_variability.csv', index=False)\n",
    "sorted_df3.to_csv('Load_data.csv', index=False)\n",
    "sorted_df4.to_csv('2019_empirical_electricity_prices.csv', index=False)\n",
    "\n",
    "# Print the length of each DataFrame\n",
    "print(f\"Length of Fuels_data.csv: {len(sorted_df1)}\")\n",
    "print(f\"Length of Generators_variability.csv: {len(sorted_df2)}\")\n",
    "print(f\"Length of Load_data.csv: {len(sorted_df3)}\")\n",
    "print(f\"Length of 2019_empirical_electricity_prices.csv: {len(sorted_df4)}\")"
   ]
  }
 ],
 "metadata": {
  "kernelspec": {
   "display_name": "Python 3",
   "language": "python",
   "name": "python3"
  },
  "language_info": {
   "codemirror_mode": {
    "name": "ipython",
    "version": 3
   },
   "file_extension": ".py",
   "mimetype": "text/x-python",
   "name": "python",
   "nbconvert_exporter": "python",
   "pygments_lexer": "ipython3",
   "version": "3.10.11"
  },
  "orig_nbformat": 4
 },
 "nbformat": 4,
 "nbformat_minor": 2
}
